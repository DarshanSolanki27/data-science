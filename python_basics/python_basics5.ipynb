{
 "cells": [
  {
   "cell_type": "code",
   "execution_count": 12,
   "metadata": {},
   "outputs": [
    {
     "name": "stdout",
     "output_type": "stream",
     "text": [
      "x    1\n",
      "y    2\n",
      "z    4\n",
      "dtype: int64\n",
      "2\n"
     ]
    }
   ],
   "source": [
    "import numpy\n",
    "import pandas as pd\n",
    "\n",
    "arr = numpy.array([1, 2, 4])\n",
    "\n",
    "\n",
    "# In Panda there its a datatype, Series, a column having index, by default its normal index, \n",
    "# we can also specify it, In case of dict its key\n",
    "# pandas.Series(data=None , index=None , dtype=None,copy = false)\n",
    "myvar = pd.Series(arr, index = [\"x\", \"y\", \"z\"])\n",
    "\n",
    "print(myvar)\n",
    "print(myvar[\"y\"])\n"
   ]
  }
 ],
 "metadata": {
  "interpreter": {
   "hash": "31f2aee4e71d21fbe5cf8b01ff0e069b9275f58929596ceb00d14d90e3e16cd6"
  },
  "kernelspec": {
   "display_name": "Python 3.8.2 64-bit",
   "language": "python",
   "name": "python3"
  },
  "language_info": {
   "codemirror_mode": {
    "name": "ipython",
    "version": 3
   },
   "file_extension": ".py",
   "mimetype": "text/x-python",
   "name": "python",
   "nbconvert_exporter": "python",
   "pygments_lexer": "ipython3",
   "version": "3.8.2"
  },
  "orig_nbformat": 4
 },
 "nbformat": 4,
 "nbformat_minor": 2
}
