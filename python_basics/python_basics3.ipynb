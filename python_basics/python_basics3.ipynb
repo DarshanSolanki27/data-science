{
  "nbformat": 4,
  "nbformat_minor": 0,
  "metadata": {
    "colab": {
      "name": "python_basics3.ipynb",
      "provenance": [],
      "collapsed_sections": []
    },
    "kernelspec": {
      "name": "python3",
      "display_name": "Python 3"
    },
    "language_info": {
      "name": "python"
    }
  },
  "cells": [
    {
      "cell_type": "markdown",
      "source": [
        "Control flow"
      ],
      "metadata": {
        "id": "3EDPrcpKuKMR"
      }
    },
    {
      "cell_type": "code",
      "source": [
        "a = int(input(\"enter the number\"))"
      ],
      "metadata": {
        "colab": {
          "base_uri": "https://localhost:8080/"
        },
        "id": "0KLhzbh3uNCk",
        "outputId": "5a5b0c44-30a5-4fd0-f72b-903b5649d458"
      },
      "execution_count": null,
      "outputs": [
        {
          "name": "stdout",
          "output_type": "stream",
          "text": [
            "enter the number5\n"
          ]
        }
      ]
    },
    {
      "cell_type": "code",
      "source": [
        "a"
      ],
      "metadata": {
        "colab": {
          "base_uri": "https://localhost:8080/"
        },
        "id": "I1GlTusTuXJP",
        "outputId": "1f901b48-9d53-4024-9e45-aff5f17fdde2"
      },
      "execution_count": null,
      "outputs": [
        {
          "output_type": "execute_result",
          "data": {
            "text/plain": [
              "5"
            ]
          },
          "metadata": {},
          "execution_count": 7
        }
      ]
    },
    {
      "cell_type": "code",
      "source": [
        "if a>10 : \n",
        "  print(\"A is greater then 10\")\n",
        "elif a > 5:\n",
        "  print(\"A is greater than 5 but less than equal to 10\")\n",
        "else :\n",
        "  print(\"A is less than equal to 5\")\n"
      ],
      "metadata": {
        "colab": {
          "base_uri": "https://localhost:8080/"
        },
        "id": "AEE_aF11uYi7",
        "outputId": "44b3ee0a-4d7d-4d97-8033-b74b1e1bddac"
      },
      "execution_count": null,
      "outputs": [
        {
          "output_type": "stream",
          "name": "stdout",
          "text": [
            "A is less than equal to 5\n"
          ]
        }
      ]
    },
    {
      "cell_type": "markdown",
      "source": [
        "Loops\n",
        "\n",
        "in for loop\n",
        "\n",
        "for varName in iterable\n",
        "\n",
        "here uterable is something which can give one item at a time\n",
        "like list, tuple, string\n",
        "\n",
        "we can also iterate our set in normal way\n",
        "\n",
        "in dict we can only iterate our key\n",
        "but by d.items we can iterate "
      ],
      "metadata": {
        "id": "rSxY80e9vpK8"
      }
    },
    {
      "cell_type": "code",
      "source": [
        "for i in [1, 2, 4,\"govind\"] : \n",
        "  print(i)"
      ],
      "metadata": {
        "colab": {
          "base_uri": "https://localhost:8080/"
        },
        "id": "iCIk4FpCvqKz",
        "outputId": "d8e2b635-512f-4983-ba29-7934b5e05cd2"
      },
      "execution_count": null,
      "outputs": [
        {
          "output_type": "stream",
          "name": "stdout",
          "text": [
            "1\n",
            "2\n",
            "4\n",
            "govind\n"
          ]
        }
      ]
    },
    {
      "cell_type": "code",
      "source": [
        "for i in (1, 2, 3, 4, \"me\"):\n",
        "  print(i)"
      ],
      "metadata": {
        "colab": {
          "base_uri": "https://localhost:8080/"
        },
        "id": "xTgXGWDzyjEz",
        "outputId": "a25e2a17-f18f-4f32-fd2c-de33d86445a5"
      },
      "execution_count": null,
      "outputs": [
        {
          "output_type": "stream",
          "name": "stdout",
          "text": [
            "1\n",
            "2\n",
            "3\n",
            "4\n",
            "me\n"
          ]
        }
      ]
    },
    {
      "cell_type": "code",
      "source": [
        "for i in {1, 2, 3} : \n",
        "  print(i)"
      ],
      "metadata": {
        "colab": {
          "base_uri": "https://localhost:8080/"
        },
        "id": "um4J5Bh5yofk",
        "outputId": "641754b3-55dd-44aa-f7fa-7554ccf4dd66"
      },
      "execution_count": null,
      "outputs": [
        {
          "output_type": "stream",
          "name": "stdout",
          "text": [
            "1\n",
            "2\n",
            "3\n"
          ]
        }
      ]
    },
    {
      "cell_type": "code",
      "source": [
        "for i in \"govind\":\n",
        "  print(i)"
      ],
      "metadata": {
        "colab": {
          "base_uri": "https://localhost:8080/"
        },
        "id": "MNJ1SQmAyst-",
        "outputId": "872bc32f-5586-419b-e8ff-d0208aff7d31"
      },
      "execution_count": null,
      "outputs": [
        {
          "output_type": "stream",
          "name": "stdout",
          "text": [
            "g\n",
            "o\n",
            "v\n",
            "i\n",
            "n\n",
            "d\n"
          ]
        }
      ]
    },
    {
      "cell_type": "code",
      "source": [
        "for key in {\"name\": \"govind\", \"college\" : \"nitw\"}:\n",
        "  print(key)"
      ],
      "metadata": {
        "colab": {
          "base_uri": "https://localhost:8080/"
        },
        "id": "A1AxPo17yzUb",
        "outputId": "1e4096aa-5f61-48a3-9067-5add80249f39"
      },
      "execution_count": null,
      "outputs": [
        {
          "output_type": "stream",
          "name": "stdout",
          "text": [
            "name\n",
            "college\n"
          ]
        }
      ]
    },
    {
      "cell_type": "code",
      "source": [
        "for key, value in {\"name\": \"govind\", \"college\" : \"nitw\"}.items():\n",
        "  print(key, \":\", value)"
      ],
      "metadata": {
        "colab": {
          "base_uri": "https://localhost:8080/"
        },
        "id": "jMmJMWy5y6m0",
        "outputId": "61f386ae-11ec-4fdf-8c4f-6832d14ceafe"
      },
      "execution_count": null,
      "outputs": [
        {
          "output_type": "stream",
          "name": "stdout",
          "text": [
            "name : govind\n",
            "college : nitw\n"
          ]
        }
      ]
    },
    {
      "cell_type": "code",
      "source": [
        "for i in range(0, 10):\n",
        "  print(i)"
      ],
      "metadata": {
        "colab": {
          "base_uri": "https://localhost:8080/"
        },
        "id": "rvv0_q7vzGF6",
        "outputId": "51d4cf8c-85ca-4a5d-f583-6729527996c0"
      },
      "execution_count": null,
      "outputs": [
        {
          "output_type": "stream",
          "name": "stdout",
          "text": [
            "0\n",
            "1\n",
            "2\n",
            "3\n",
            "4\n",
            "5\n",
            "6\n",
            "7\n",
            "8\n",
            "9\n"
          ]
        }
      ]
    },
    {
      "cell_type": "code",
      "source": [
        "for i in range(0, 10, 2):\n",
        "  print(i)"
      ],
      "metadata": {
        "colab": {
          "base_uri": "https://localhost:8080/"
        },
        "id": "ZkXnpBJ9zJlE",
        "outputId": "8ea48744-b300-4edc-937a-0ac81b1a05d3"
      },
      "execution_count": null,
      "outputs": [
        {
          "output_type": "stream",
          "name": "stdout",
          "text": [
            "0\n",
            "2\n",
            "4\n",
            "6\n",
            "8\n"
          ]
        }
      ]
    },
    {
      "cell_type": "code",
      "source": [
        "#this enumerate first convert given iterable to new iterable with tuple having value and index\n",
        "for i in enumerate((1, 2, 3, 4, \"me\")):\n",
        "  print(i)"
      ],
      "metadata": {
        "colab": {
          "base_uri": "https://localhost:8080/"
        },
        "id": "UJTdrG8Mzef5",
        "outputId": "21d1f5ba-320f-4fc3-eb63-4cc2e70dabdf"
      },
      "execution_count": null,
      "outputs": [
        {
          "output_type": "stream",
          "name": "stdout",
          "text": [
            "(0, 1)\n",
            "(1, 2)\n",
            "(2, 3)\n",
            "(3, 4)\n",
            "(4, 'me')\n"
          ]
        }
      ]
    },
    {
      "cell_type": "code",
      "source": [
        "for index, value in enumerate((1, 2, 3, 4, \"me\")):\n",
        "  print(index, value)"
      ],
      "metadata": {
        "colab": {
          "base_uri": "https://localhost:8080/"
        },
        "id": "8pFVzq5jzzZ3",
        "outputId": "17414267-801e-4009-d2ec-76847e8b42e8"
      },
      "execution_count": null,
      "outputs": [
        {
          "output_type": "stream",
          "name": "stdout",
          "text": [
            "0 1\n",
            "1 2\n",
            "2 3\n",
            "3 4\n",
            "4 me\n"
          ]
        }
      ]
    },
    {
      "cell_type": "code",
      "source": [
        "i =0;\n",
        "while(i<10):\n",
        "  print(i);\n",
        "  i = i+1;"
      ],
      "metadata": {
        "colab": {
          "base_uri": "https://localhost:8080/"
        },
        "id": "K0efYyDYz_ft",
        "outputId": "bad0c51e-9104-4e8e-ea77-f1f71de52d34"
      },
      "execution_count": null,
      "outputs": [
        {
          "output_type": "stream",
          "name": "stdout",
          "text": [
            "0\n",
            "1\n",
            "2\n",
            "3\n",
            "4\n",
            "5\n",
            "6\n",
            "7\n",
            "8\n",
            "9\n"
          ]
        }
      ]
    },
    {
      "cell_type": "code",
      "source": [
        "#List comprehension\n",
        "\n",
        "table13 = [13*i for i in range(1, 11)]\n",
        "table13"
      ],
      "metadata": {
        "colab": {
          "base_uri": "https://localhost:8080/"
        },
        "id": "JKFI1_lZ0uV4",
        "outputId": "fe1516e2-3566-4412-fda1-2fef4e2b4227"
      },
      "execution_count": null,
      "outputs": [
        {
          "output_type": "execute_result",
          "data": {
            "text/plain": [
              "[13, 26, 39, 52, 65, 78, 91, 104, 117, 130]"
            ]
          },
          "metadata": {},
          "execution_count": 37
        }
      ]
    },
    {
      "cell_type": "code",
      "source": [
        "list(range(1, 10))\n",
        "print(range(1,10))\n"
      ],
      "metadata": {
        "colab": {
          "base_uri": "https://localhost:8080/"
        },
        "id": "E3lRxuBpa-oE",
        "outputId": "14c10f39-0df1-44f1-d106-967b319977b1"
      },
      "execution_count": null,
      "outputs": [
        {
          "output_type": "stream",
          "name": "stdout",
          "text": [
            "range(1, 10)\n"
          ]
        }
      ]
    }
  ]
}