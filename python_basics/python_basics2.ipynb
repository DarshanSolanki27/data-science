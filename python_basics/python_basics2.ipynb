{
  "nbformat": 4,
  "nbformat_minor": 0,
  "metadata": {
    "colab": {
      "name": "python_basics2.ipynb",
      "provenance": [],
      "collapsed_sections": []
    },
    "kernelspec": {
      "name": "python3",
      "display_name": "Python 3"
    },
    "language_info": {
      "name": "python"
    }
  },
  "cells": [
    {
      "cell_type": "markdown",
      "source": [
        "Tuples, sets, dictonaries, strings"
      ],
      "metadata": {
        "id": "iS99t-APb7A7"
      }
    },
    {
      "cell_type": "code",
      "execution_count": null,
      "metadata": {
        "id": "y9rW5aMlb2lj"
      },
      "outputs": [],
      "source": [
        "#Built-in immutable sequence., define with ()\n",
        "T = (1, 2, 3)"
      ]
    },
    {
      "cell_type": "code",
      "source": [
        "# T?\n",
        "#dir gives the functions available on that class\n",
        "dir(T)"
      ],
      "metadata": {
        "id": "xbh1G83mcEit"
      },
      "execution_count": null,
      "outputs": []
    },
    {
      "cell_type": "code",
      "source": [
        "type(T)"
      ],
      "metadata": {
        "colab": {
          "base_uri": "https://localhost:8080/"
        },
        "id": "4-NYFqvwcwPP",
        "outputId": "439b5737-7361-4327-88ca-38e3d0b2eee5"
      },
      "execution_count": null,
      "outputs": [
        {
          "output_type": "execute_result",
          "data": {
            "text/plain": [
              "tuple"
            ]
          },
          "metadata": {},
          "execution_count": 10
        }
      ]
    },
    {
      "cell_type": "code",
      "source": [
        "tuple([1, 2, 4,5])"
      ],
      "metadata": {
        "colab": {
          "base_uri": "https://localhost:8080/"
        },
        "id": "3MoQYRKndEtD",
        "outputId": "e4b07add-6ec7-442d-d01a-9ca68d9b4a78"
      },
      "execution_count": null,
      "outputs": [
        {
          "output_type": "execute_result",
          "data": {
            "text/plain": [
              "(1, 2, 4, 5)"
            ]
          },
          "metadata": {},
          "execution_count": 11
        }
      ]
    },
    {
      "cell_type": "code",
      "source": [
        "#converting to list\n",
        "list((3, 4, 5, 6))"
      ],
      "metadata": {
        "colab": {
          "base_uri": "https://localhost:8080/"
        },
        "id": "dZiuiY3wdHtU",
        "outputId": "f1856bee-b762-4183-d7c8-2d7718480480"
      },
      "execution_count": null,
      "outputs": [
        {
          "output_type": "execute_result",
          "data": {
            "text/plain": [
              "[3, 4, 5, 6]"
            ]
          },
          "metadata": {},
          "execution_count": 13
        }
      ]
    },
    {
      "cell_type": "code",
      "source": [
        "T.count(3)"
      ],
      "metadata": {
        "colab": {
          "base_uri": "https://localhost:8080/"
        },
        "id": "32-MDXASdLqu",
        "outputId": "fab56582-3769-44ee-e0b8-81d953490f50"
      },
      "execution_count": null,
      "outputs": [
        {
          "output_type": "execute_result",
          "data": {
            "text/plain": [
              "1"
            ]
          },
          "metadata": {},
          "execution_count": 15
        }
      ]
    },
    {
      "cell_type": "code",
      "source": [
        "T.index(3)"
      ],
      "metadata": {
        "colab": {
          "base_uri": "https://localhost:8080/"
        },
        "id": "CLZJ2Th4dTA-",
        "outputId": "57a7cb39-a754-4403-e3e0-feff4e994b89"
      },
      "execution_count": null,
      "outputs": [
        {
          "output_type": "execute_result",
          "data": {
            "text/plain": [
              "2"
            ]
          },
          "metadata": {},
          "execution_count": 16
        }
      ]
    },
    {
      "cell_type": "code",
      "source": [
        "T[2]"
      ],
      "metadata": {
        "colab": {
          "base_uri": "https://localhost:8080/"
        },
        "id": "ylOe1UtRdjFJ",
        "outputId": "0182758e-8c2a-4276-b082-aad7586c284b"
      },
      "execution_count": null,
      "outputs": [
        {
          "output_type": "execute_result",
          "data": {
            "text/plain": [
              "3"
            ]
          },
          "metadata": {},
          "execution_count": 17
        }
      ]
    },
    {
      "cell_type": "code",
      "source": [
        "#same way we can also use slicing in tuple\n",
        "T"
      ],
      "metadata": {
        "colab": {
          "base_uri": "https://localhost:8080/"
        },
        "id": "iYkuICymdlFn",
        "outputId": "aebff6b5-74b0-4428-f8fd-8247a38a4587"
      },
      "execution_count": null,
      "outputs": [
        {
          "output_type": "execute_result",
          "data": {
            "text/plain": [
              "(1, 2, 3)"
            ]
          },
          "metadata": {},
          "execution_count": 18
        }
      ]
    },
    {
      "cell_type": "markdown",
      "source": [
        "Sets\n",
        "\n",
        "muttable but unordered means you can not access element from indexing\n",
        "\n",
        "cannot contain duplicates\n",
        "\n",
        "['add',\n",
        " 'clear',\n",
        " 'copy',\n",
        " 'difference',\n",
        " 'difference_update',\n",
        " 'discard',\n",
        " 'intersection',\n",
        " 'intersection_update',\n",
        " 'isdisjoint',\n",
        " 'issubset',\n",
        " 'issuperset',\n",
        " 'pop',\n",
        " 'remove',\n",
        " 'symmetric_difference',\n",
        " 'symmetric_difference_update',\n",
        " 'union',\n",
        " 'update']\n",
        "\n",
        " set() -> new empty set object\n",
        "set(iterable) -> new set object\n",
        "\n",
        "data is always sorted in that"
      ],
      "metadata": {
        "id": "b90JFgmSeWkq"
      }
    },
    {
      "cell_type": "code",
      "source": [
        "s1 = set([4, 3, 2, 4, 5])"
      ],
      "metadata": {
        "id": "NUdYbnApeVy3"
      },
      "execution_count": null,
      "outputs": []
    },
    {
      "cell_type": "code",
      "source": [
        "s1"
      ],
      "metadata": {
        "colab": {
          "base_uri": "https://localhost:8080/"
        },
        "id": "sBivOiGLex5n",
        "outputId": "7e328a43-47a8-49d8-8f92-cd79bfa79efa"
      },
      "execution_count": null,
      "outputs": [
        {
          "output_type": "execute_result",
          "data": {
            "text/plain": [
              "{2, 3, 4, 5}"
            ]
          },
          "metadata": {},
          "execution_count": 20
        }
      ]
    },
    {
      "cell_type": "code",
      "source": [
        "# it support all set operations like union intersection difference symmatric_difference\n",
        "\n",
        "s1.add(10)\n",
        "s1"
      ],
      "metadata": {
        "colab": {
          "base_uri": "https://localhost:8080/"
        },
        "id": "aCee_IIxe0VM",
        "outputId": "9cd142e1-e944-4ef0-cbd8-dd4f9813a40f"
      },
      "execution_count": null,
      "outputs": [
        {
          "output_type": "execute_result",
          "data": {
            "text/plain": [
              "{2, 3, 4, 5, 10}"
            ]
          },
          "metadata": {},
          "execution_count": 23
        }
      ]
    },
    {
      "cell_type": "code",
      "source": [
        "s1.add(5)\n",
        "s1"
      ],
      "metadata": {
        "colab": {
          "base_uri": "https://localhost:8080/"
        },
        "id": "UPma0hCxgNT6",
        "outputId": "2536013c-4000-44e8-850b-819a5c6533cf"
      },
      "execution_count": null,
      "outputs": [
        {
          "output_type": "execute_result",
          "data": {
            "text/plain": [
              "{2, 3, 4, 5, 10}"
            ]
          },
          "metadata": {},
          "execution_count": 24
        }
      ]
    },
    {
      "cell_type": "code",
      "source": [
        "s1.remove(5)"
      ],
      "metadata": {
        "id": "YVwlpvnagVGd"
      },
      "execution_count": null,
      "outputs": []
    },
    {
      "cell_type": "code",
      "source": [
        "s1"
      ],
      "metadata": {
        "colab": {
          "base_uri": "https://localhost:8080/"
        },
        "id": "T4H3gOcDgXCI",
        "outputId": "d53211c0-00cb-4210-9781-28686a98077a"
      },
      "execution_count": null,
      "outputs": [
        {
          "output_type": "execute_result",
          "data": {
            "text/plain": [
              "{2, 3, 4, 10}"
            ]
          },
          "metadata": {},
          "execution_count": 26
        }
      ]
    },
    {
      "cell_type": "markdown",
      "source": [
        "Strings"
      ],
      "metadata": {
        "id": "a8vynZIKjPzj"
      }
    },
    {
      "cell_type": "code",
      "source": [
        "s1 = '1'\n",
        "s1"
      ],
      "metadata": {
        "colab": {
          "base_uri": "https://localhost:8080/",
          "height": 35
        },
        "id": "A4Fa__dijRVz",
        "outputId": "4c40ba94-6e61-4f81-f770-6c5e3778658d"
      },
      "execution_count": null,
      "outputs": [
        {
          "output_type": "execute_result",
          "data": {
            "application/vnd.google.colaboratory.intrinsic+json": {
              "type": "string"
            },
            "text/plain": [
              "'1'"
            ]
          },
          "metadata": {},
          "execution_count": 29
        }
      ]
    },
    {
      "cell_type": "code",
      "source": [
        "s2 = \"govind\"\n",
        "s2"
      ],
      "metadata": {
        "colab": {
          "base_uri": "https://localhost:8080/",
          "height": 35
        },
        "id": "0wU22VBLjXUE",
        "outputId": "86d70157-f5db-4822-f06f-8c9eb73b475b"
      },
      "execution_count": null,
      "outputs": [
        {
          "output_type": "execute_result",
          "data": {
            "application/vnd.google.colaboratory.intrinsic+json": {
              "type": "string"
            },
            "text/plain": [
              "'govind'"
            ]
          },
          "metadata": {},
          "execution_count": 30
        }
      ]
    },
    {
      "cell_type": "code",
      "source": [
        "s3 = '''This is me\n",
        "and you  '''\n",
        "s3"
      ],
      "metadata": {
        "colab": {
          "base_uri": "https://localhost:8080/",
          "height": 35
        },
        "id": "eC5wh14ejaqr",
        "outputId": "125ed57f-53ee-4e5f-af76-f79074496594"
      },
      "execution_count": null,
      "outputs": [
        {
          "output_type": "execute_result",
          "data": {
            "application/vnd.google.colaboratory.intrinsic+json": {
              "type": "string"
            },
            "text/plain": [
              "'This is me\\nand you  '"
            ]
          },
          "metadata": {},
          "execution_count": 31
        }
      ]
    },
    {
      "cell_type": "code",
      "source": [
        "#now it can accept all the funtions of string\n",
        "s2 = s2.upper()\n",
        "s2"
      ],
      "metadata": {
        "colab": {
          "base_uri": "https://localhost:8080/",
          "height": 35
        },
        "id": "Ad9G8xaXjmVN",
        "outputId": "c5555b60-3856-4f91-b780-23cf5148c7dc"
      },
      "execution_count": null,
      "outputs": [
        {
          "output_type": "execute_result",
          "data": {
            "application/vnd.google.colaboratory.intrinsic+json": {
              "type": "string"
            },
            "text/plain": [
              "'GOVIND'"
            ]
          },
          "metadata": {},
          "execution_count": 33
        }
      ]
    },
    {
      "cell_type": "markdown",
      "source": [
        "Dictonaries"
      ],
      "metadata": {
        "id": "40aQBNmEqcg2"
      }
    },
    {
      "cell_type": "code",
      "source": [
        "d1 = {\"name\" : \"govind\",\"class\" : \"yahin\"}"
      ],
      "metadata": {
        "id": "2D5wTGZMqgTA"
      },
      "execution_count": null,
      "outputs": []
    },
    {
      "cell_type": "code",
      "source": [
        "d1"
      ],
      "metadata": {
        "colab": {
          "base_uri": "https://localhost:8080/"
        },
        "id": "nRKMYilkqlw7",
        "outputId": "aa0b88d8-7b04-454c-ca29-7043ecf2ba94"
      },
      "execution_count": null,
      "outputs": [
        {
          "output_type": "execute_result",
          "data": {
            "text/plain": [
              "{'class': 'yahin', 'name': 'govind'}"
            ]
          },
          "metadata": {},
          "execution_count": 36
        }
      ]
    },
    {
      "cell_type": "code",
      "source": [
        "d1.keys()"
      ],
      "metadata": {
        "colab": {
          "base_uri": "https://localhost:8080/"
        },
        "id": "r8O39ElmqohQ",
        "outputId": "a66750fd-747f-468c-c7d3-43c5835ec331"
      },
      "execution_count": null,
      "outputs": [
        {
          "output_type": "execute_result",
          "data": {
            "text/plain": [
              "dict_keys(['name', 'class'])"
            ]
          },
          "metadata": {},
          "execution_count": 37
        }
      ]
    },
    {
      "cell_type": "code",
      "source": [
        "d1.values()"
      ],
      "metadata": {
        "colab": {
          "base_uri": "https://localhost:8080/"
        },
        "id": "CGQucL63qrlw",
        "outputId": "a79e8e1d-da2f-4ce6-eeeb-22de3bcbe0ce"
      },
      "execution_count": null,
      "outputs": [
        {
          "output_type": "execute_result",
          "data": {
            "text/plain": [
              "dict_values(['govind', 'yahin'])"
            ]
          },
          "metadata": {},
          "execution_count": 38
        }
      ]
    },
    {
      "cell_type": "code",
      "source": [
        "d1.items()"
      ],
      "metadata": {
        "colab": {
          "base_uri": "https://localhost:8080/"
        },
        "id": "2TbRxbsUqv4A",
        "outputId": "22db8117-d5ed-41df-fd32-9f826448c1b8"
      },
      "execution_count": null,
      "outputs": [
        {
          "output_type": "execute_result",
          "data": {
            "text/plain": [
              "dict_items([('name', 'govind'), ('class', 'yahin')])"
            ]
          },
          "metadata": {},
          "execution_count": 39
        }
      ]
    },
    {
      "cell_type": "code",
      "source": [
        "d1[\"name\"]"
      ],
      "metadata": {
        "colab": {
          "base_uri": "https://localhost:8080/",
          "height": 35
        },
        "id": "2IMIHFT-q5l1",
        "outputId": "e74b64ae-ecac-4110-cb33-acaec6538fd5"
      },
      "execution_count": null,
      "outputs": [
        {
          "output_type": "execute_result",
          "data": {
            "application/vnd.google.colaboratory.intrinsic+json": {
              "type": "string"
            },
            "text/plain": [
              "'govind'"
            ]
          },
          "metadata": {},
          "execution_count": 40
        }
      ]
    },
    {
      "cell_type": "code",
      "source": [
        "d2 = dict({\"hello\" : \"kese ho \"})"
      ],
      "metadata": {
        "id": "qxNgsRNfq8Y7"
      },
      "execution_count": null,
      "outputs": []
    },
    {
      "cell_type": "code",
      "source": [
        "d2"
      ],
      "metadata": {
        "colab": {
          "base_uri": "https://localhost:8080/"
        },
        "id": "n-t-vifvrRv0",
        "outputId": "ffaea21f-e44e-4c45-b12d-fe59a378dfb8"
      },
      "execution_count": null,
      "outputs": [
        {
          "output_type": "execute_result",
          "data": {
            "text/plain": [
              "{'hello': 'kese ho '}"
            ]
          },
          "metadata": {},
          "execution_count": 45
        }
      ]
    },
    {
      "cell_type": "code",
      "source": [
        "d2[\"greet\"] = \"me hun na \""
      ],
      "metadata": {
        "id": "SG1BclsArsiO"
      },
      "execution_count": null,
      "outputs": []
    },
    {
      "cell_type": "code",
      "source": [
        "d2"
      ],
      "metadata": {
        "colab": {
          "base_uri": "https://localhost:8080/"
        },
        "id": "EBv-kR4nru2-",
        "outputId": "cf2f0ce8-94c7-4320-a7b5-f5e30aef43b7"
      },
      "execution_count": null,
      "outputs": [
        {
          "output_type": "execute_result",
          "data": {
            "text/plain": [
              "{'greet': 'me hun na ', 'hello': 'kese ho '}"
            ]
          },
          "metadata": {},
          "execution_count": 48
        }
      ]
    }
  ]
}